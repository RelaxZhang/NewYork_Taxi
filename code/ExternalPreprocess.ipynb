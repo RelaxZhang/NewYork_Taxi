{
 "cells": [
  {
   "cell_type": "markdown",
   "metadata": {},
   "source": [
    "# Read in Covid Data\n",
    "# Create csv file with preprocessed covid data"
   ]
  },
  {
   "cell_type": "code",
   "execution_count": 3,
   "metadata": {},
   "outputs": [
    {
     "name": "stdout",
     "output_type": "stream",
     "text": [
      "finish\n"
     ]
    }
   ],
   "source": [
    "import pandas as pd\n",
    "import csv\n",
    "\n",
    "# Read in data from COVID-19_Daily_Counts_of_Cases__Hospitalizations__and_Deaths.csv \n",
    "# download from https://data.cityofnewyork.us/Health/COVID-19-Daily-Counts-of-Cases-Hospitalizations-an/rc75-m7u3\n",
    "covid_data = pd.read_csv(r\"../raw_data/raw/COVID-19_Daily_Counts_of_Cases__Hospitalizations__and_Deaths.csv\", index_col = False, delimiter = ',', header = 0, low_memory = False)\n",
    "pd.options.mode.chained_assignment = None\n",
    "\n",
    "covid_data = covid_data.loc[covid_data['DATE_OF_INTEREST'].str.contains('2020')]\n",
    "\n",
    "# Extra two columns of data which is needed for preprocessing\n",
    "covid_date = covid_data['DATE_OF_INTEREST']\n",
    "covid_count = covid_data['CASE_COUNT']\n",
    "\n",
    "# Convert the date value into the form fitted the green / yellow taxis' data as form yyyy-mm-dd\n",
    "dim_covid = len(covid_date)\n",
    "for i in range(dim_covid):\n",
    "    covid_date[i] = covid_date[i][6:] + '-' + covid_date[i][0:2] + '-' + covid_date[i][3:5]\n",
    "\n",
    "# Create new csv file for only containing Date and Case number named covid.csv for preprocessing usage in code Preprocess.py\n",
    "field_order = [\"DATE_OF_INTEREST\", \"CASE_COUNT\"]\n",
    "with open(\"../raw_data/raw/covid.csv\", 'w', encoding = \"utf-8\", newline='') as csvfile:\n",
    "    writer = csv.DictWriter(csvfile, field_order)\n",
    "    writer.writeheader()\n",
    "    for i in range(dim_covid):\n",
    "        writer.writerow(dict(zip(field_order, [covid_date[i], covid_count[i]])))\n",
    "    print('finish')"
   ]
  },
  {
   "cell_type": "markdown",
   "metadata": {},
   "source": [
    "# Read in Weather Data (Temperature & Relative Humidity)\n",
    "# Create csv file with preprocessed human comfort index (DI) data"
   ]
  },
  {
   "cell_type": "code",
   "execution_count": 4,
   "metadata": {},
   "outputs": [
    {
     "name": "stdout",
     "output_type": "stream",
     "text": [
      "finish\n"
     ]
    }
   ],
   "source": [
    "\n",
    "# Read in external weather data and remove the first 9th rows which do not contain informative data\n",
    "weather = pd.read_csv(r\"../raw_data/raw/weather_data.csv\", index_col = False, delimiter = ',', header = 0, low_memory = False)\n",
    "weather = weather.drop([0, 1, 2, 3, 4, 5, 6, 7, 8]).reset_index()\n",
    "\n",
    "# convert the average temperature and average humidity data into float type\n",
    "weather[\"New York.2\"] = weather[\"New York.2\"].astype(float)\n",
    "weather[\"New York.5\"] = weather[\"New York.5\"].astype(float)\n",
    "\n",
    "# formula: DI = T - (0.55 - 0.55f) * (T-58); T is temperature (unit of Fahrenheit), f is Relative Humidity (%)\n",
    "# calculate the DI index (human comfort index)\n",
    "# cited from \n",
    "# Yang, D., & Qian, Y. (Eds.). (2021). Proceedings of the 24th International Symposium on Advancement of Construction Management and Real Estate. Springer.\n",
    "\n",
    "# convert DI into range in (-Inf, 0) with 0 = completely comfortable while the more it less than 0, the more uncomfortable\n",
    "# Pick DI = 67.5 as completely comfortable value, refer from https://en.calculator.jp/health/discomfort/\n",
    "weather[\"DIcomfort_index\"] = (abs((weather[\"New York.2\"] - (0.55-0.55*weather[\"New York.5\"]/100)*(weather[\"New York.2\"]-58)) - 67.5)/2.5 * (-0.5)).round(5)\n",
    "\n",
    "# remove the columns with no useful information\n",
    "weather = weather.drop(columns = ['New York'])\n",
    "weather = weather.drop(columns = ['New York.1'])\n",
    "weather = weather.drop(columns = ['New York.2'])\n",
    "weather = weather.drop(columns = ['New York.3'])\n",
    "weather = weather.drop(columns = ['New York.4'])\n",
    "weather = weather.drop(columns = ['New York.5'])\n",
    "weather = weather.drop(columns = ['index'])\n",
    "\n",
    "# convert the \"yyyymmddT0000\" data into \"yyyy-mm-dd\" form and store it in column 'date'\n",
    "date = []\n",
    "date_location = weather['location'].tolist()\n",
    "for i in date_location:\n",
    "    date.append(i[0:4] + \"-\" + i[4:6] + \"-\" + i[6:8])\n",
    "date_column = pd.Series(date)\n",
    "weather['date'] = date_column.values\n",
    "\n",
    "# remove the column with no useful information\n",
    "weather = weather.drop(columns = ['location'])\n",
    "\n",
    "# covert the dataframe into csv file for merging data usage\n",
    "weather.to_csv(\"../raw_data/raw/comfortIndex.csv\", index = False)\n",
    "\n",
    "print(\"finish\")"
   ]
  }
 ],
 "metadata": {
  "kernelspec": {
   "display_name": "Python 3",
   "language": "python",
   "name": "python3"
  },
  "language_info": {
   "codemirror_mode": {
    "name": "ipython",
    "version": 3
   },
   "file_extension": ".py",
   "mimetype": "text/x-python",
   "name": "python",
   "nbconvert_exporter": "python",
   "pygments_lexer": "ipython3",
   "version": "3.8.5"
  }
 },
 "nbformat": 4,
 "nbformat_minor": 4
}
