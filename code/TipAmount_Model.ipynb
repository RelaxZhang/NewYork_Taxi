{
 "cells": [
  {
   "cell_type": "code",
   "execution_count": 284,
   "metadata": {},
   "outputs": [],
   "source": [
    "import numpy as np\n",
    "import pandas as pd\n",
    "import csv\n",
    "from sklearn.linear_model import LinearRegression\n",
    "import statsmodels.regression.linear_model as sm\n",
    "from sklearn.model_selection import train_test_split\n",
    "from sklearn.model_selection import learning_curve\n",
    "import matplotlib.pyplot as plt"
   ]
  },
  {
   "cell_type": "markdown",
   "metadata": {},
   "source": [
    "# Load training and test set from folder model_data in preprocessed_data"
   ]
  },
  {
   "cell_type": "code",
   "execution_count": 285,
   "metadata": {},
   "outputs": [
    {
     "name": "stdout",
     "output_type": "stream",
     "text": [
      "finish\n"
     ]
    }
   ],
   "source": [
    "# read text from training and test set\n",
    "# for DEMONSTRATION PURPOSES, the entire training set will be used to train the models and also as a test set\n",
    "train_yellow = pd.read_csv(r\"../preprocessed_data/model_data/train_yellow.csv\", index_col = False, delimiter = ',', header=0)\n",
    "test_yellow = pd.read_csv(r\"../preprocessed_data/model_data/test_yellow.csv\", index_col = False, delimiter = ',', header = 0)\n",
    "\n",
    "# print \"finish\" once the csv files are read\n",
    "print(\"finish\")"
   ]
  },
  {
   "cell_type": "markdown",
   "metadata": {},
   "source": [
    "# Assign temperory name (0~6) for each feature for feature selection usage"
   ]
  },
  {
   "cell_type": "code",
   "execution_count": 287,
   "metadata": {},
   "outputs": [
    {
     "data": {
      "text/html": [
       "<table class=\"simpletable\">\n",
       "<caption>OLS Regression Results</caption>\n",
       "<tr>\n",
       "  <th>Dep. Variable:</th>       <td>tip_amount</td>    <th>  R-squared:         </th>  <td>   0.496</td>  \n",
       "</tr>\n",
       "<tr>\n",
       "  <th>Model:</th>                   <td>OLS</td>       <th>  Adj. R-squared:    </th>  <td>   0.496</td>  \n",
       "</tr>\n",
       "<tr>\n",
       "  <th>Method:</th>             <td>Least Squares</td>  <th>  F-statistic:       </th>  <td>1.447e+05</td> \n",
       "</tr>\n",
       "<tr>\n",
       "  <th>Date:</th>             <td>Thu, 12 Aug 2021</td> <th>  Prob (F-statistic):</th>   <td>  0.00</td>   \n",
       "</tr>\n",
       "<tr>\n",
       "  <th>Time:</th>                 <td>17:36:49</td>     <th>  Log-Likelihood:    </th> <td>-1.7730e+06</td>\n",
       "</tr>\n",
       "<tr>\n",
       "  <th>No. Observations:</th>      <td>882208</td>      <th>  AIC:               </th>  <td>3.546e+06</td> \n",
       "</tr>\n",
       "<tr>\n",
       "  <th>Df Residuals:</th>          <td>882201</td>      <th>  BIC:               </th>  <td>3.546e+06</td> \n",
       "</tr>\n",
       "<tr>\n",
       "  <th>Df Model:</th>              <td>     6</td>      <th>                     </th>      <td> </td>     \n",
       "</tr>\n",
       "<tr>\n",
       "  <th>Covariance Type:</th>      <td>nonrobust</td>    <th>                     </th>      <td> </td>     \n",
       "</tr>\n",
       "</table>\n",
       "<table class=\"simpletable\">\n",
       "<tr>\n",
       "    <td></td>       <th>coef</th>     <th>std err</th>      <th>t</th>      <th>P>|t|</th>  <th>[0.025</th>    <th>0.975]</th>  \n",
       "</tr>\n",
       "<tr>\n",
       "  <th>const</th> <td>   -1.1594</td> <td>    0.007</td> <td> -177.737</td> <td> 0.000</td> <td>   -1.172</td> <td>   -1.147</td>\n",
       "</tr>\n",
       "<tr>\n",
       "  <th>x1</th>    <td>    0.2369</td> <td>    0.001</td> <td>  199.419</td> <td> 0.000</td> <td>    0.235</td> <td>    0.239</td>\n",
       "</tr>\n",
       "<tr>\n",
       "  <th>x2</th>    <td>    0.0400</td> <td>    0.000</td> <td>  127.547</td> <td> 0.000</td> <td>    0.039</td> <td>    0.041</td>\n",
       "</tr>\n",
       "<tr>\n",
       "  <th>x3</th>    <td>    0.2680</td> <td>    0.002</td> <td>  128.556</td> <td> 0.000</td> <td>    0.264</td> <td>    0.272</td>\n",
       "</tr>\n",
       "<tr>\n",
       "  <th>x4</th>    <td>    2.7745</td> <td>    0.004</td> <td>  625.691</td> <td> 0.000</td> <td>    2.766</td> <td>    2.783</td>\n",
       "</tr>\n",
       "<tr>\n",
       "  <th>x5</th>    <td> 2.711e-07</td> <td> 3.45e-06</td> <td>    0.078</td> <td> 0.937</td> <td> -6.5e-06</td> <td> 7.04e-06</td>\n",
       "</tr>\n",
       "<tr>\n",
       "  <th>x6</th>    <td>   -0.0064</td> <td>    0.001</td> <td>   -6.302</td> <td> 0.000</td> <td>   -0.008</td> <td>   -0.004</td>\n",
       "</tr>\n",
       "</table>\n",
       "<table class=\"simpletable\">\n",
       "<tr>\n",
       "  <th>Omnibus:</th>       <td>3409416.564</td> <th>  Durbin-Watson:     </th>      <td>   2.002</td>     \n",
       "</tr>\n",
       "<tr>\n",
       "  <th>Prob(Omnibus):</th>   <td> 0.000</td>    <th>  Jarque-Bera (JB):  </th> <td>17244063201277.143</td>\n",
       "</tr>\n",
       "<tr>\n",
       "  <th>Skew:</th>            <td>91.097</td>    <th>  Prob(JB):          </th>      <td>    0.00</td>     \n",
       "</tr>\n",
       "<tr>\n",
       "  <th>Kurtosis:</th>       <td>21661.310</td>  <th>  Cond. No.          </th>      <td>2.26e+03</td>     \n",
       "</tr>\n",
       "</table><br/><br/>Notes:<br/>[1] Standard Errors assume that the covariance matrix of the errors is correctly specified.<br/>[2] The condition number is large, 2.26e+03. This might indicate that there are<br/>strong multicollinearity or other numerical problems."
      ],
      "text/plain": [
       "<class 'statsmodels.iolib.summary.Summary'>\n",
       "\"\"\"\n",
       "                            OLS Regression Results                            \n",
       "==============================================================================\n",
       "Dep. Variable:             tip_amount   R-squared:                       0.496\n",
       "Model:                            OLS   Adj. R-squared:                  0.496\n",
       "Method:                 Least Squares   F-statistic:                 1.447e+05\n",
       "Date:                Thu, 12 Aug 2021   Prob (F-statistic):               0.00\n",
       "Time:                        17:36:49   Log-Likelihood:            -1.7730e+06\n",
       "No. Observations:              882208   AIC:                         3.546e+06\n",
       "Df Residuals:                  882201   BIC:                         3.546e+06\n",
       "Df Model:                           6                                         \n",
       "Covariance Type:            nonrobust                                         \n",
       "==============================================================================\n",
       "                 coef    std err          t      P>|t|      [0.025      0.975]\n",
       "------------------------------------------------------------------------------\n",
       "const         -1.1594      0.007   -177.737      0.000      -1.172      -1.147\n",
       "x1             0.2369      0.001    199.419      0.000       0.235       0.239\n",
       "x2             0.0400      0.000    127.547      0.000       0.039       0.041\n",
       "x3             0.2680      0.002    128.556      0.000       0.264       0.272\n",
       "x4             2.7745      0.004    625.691      0.000       2.766       2.783\n",
       "x5          2.711e-07   3.45e-06      0.078      0.937    -6.5e-06    7.04e-06\n",
       "x6            -0.0064      0.001     -6.302      0.000      -0.008      -0.004\n",
       "==============================================================================\n",
       "Omnibus:                  3409416.564   Durbin-Watson:                   2.002\n",
       "Prob(Omnibus):                  0.000   Jarque-Bera (JB):   17244063201277.143\n",
       "Skew:                          91.097   Prob(JB):                         0.00\n",
       "Kurtosis:                   21661.310   Cond. No.                     2.26e+03\n",
       "==============================================================================\n",
       "\n",
       "Notes:\n",
       "[1] Standard Errors assume that the covariance matrix of the errors is correctly specified.\n",
       "[2] The condition number is large, 2.26e+03. This might indicate that there are\n",
       "strong multicollinearity or other numerical problems.\n",
       "\"\"\""
      ]
     },
     "execution_count": 287,
     "metadata": {},
     "output_type": "execute_result"
    }
   ],
   "source": [
    "# To avoid overfitting, apply stratification to select subsample data and start backward elimination\n",
    "stratify_selection, subsample_selection = train_test_split(train_yellow, test_size = 0.05, stratify = train_yellow[['covid_count']])\n",
    "\n",
    "# Set preditor features and target feature\n",
    "x = subsample_selection[['trip_distance', 'duration', 'tolls_amount', 'payment_card', 'covid_count', 'comfort_index']]\n",
    "y = subsample_selection['tip_amount']\n",
    "\n",
    "# Print out summary of current model, compare each feature's p-value with 0.05 to judge whether remove it or not\n",
    "x = np.append(arr = np.ones((len(subsample_selection[\"duration\"]),1)).astype(int), values = x, axis = 1)\n",
    "x_opt = x[:, [0, 1, 2, 3, 4, 5, 6]]\n",
    "ols = sm.OLS(endog = y, exog = x_opt).fit()\n",
    "ols.summary()"
   ]
  },
  {
   "cell_type": "code",
   "execution_count": 288,
   "metadata": {},
   "outputs": [
    {
     "data": {
      "text/html": [
       "<table class=\"simpletable\">\n",
       "<caption>OLS Regression Results</caption>\n",
       "<tr>\n",
       "  <th>Dep. Variable:</th>       <td>tip_amount</td>    <th>  R-squared:         </th>  <td>   0.496</td>  \n",
       "</tr>\n",
       "<tr>\n",
       "  <th>Model:</th>                   <td>OLS</td>       <th>  Adj. R-squared:    </th>  <td>   0.496</td>  \n",
       "</tr>\n",
       "<tr>\n",
       "  <th>Method:</th>             <td>Least Squares</td>  <th>  F-statistic:       </th>  <td>1.737e+05</td> \n",
       "</tr>\n",
       "<tr>\n",
       "  <th>Date:</th>             <td>Thu, 12 Aug 2021</td> <th>  Prob (F-statistic):</th>   <td>  0.00</td>   \n",
       "</tr>\n",
       "<tr>\n",
       "  <th>Time:</th>                 <td>17:37:09</td>     <th>  Log-Likelihood:    </th> <td>-1.7730e+06</td>\n",
       "</tr>\n",
       "<tr>\n",
       "  <th>No. Observations:</th>      <td>882208</td>      <th>  AIC:               </th>  <td>3.546e+06</td> \n",
       "</tr>\n",
       "<tr>\n",
       "  <th>Df Residuals:</th>          <td>882202</td>      <th>  BIC:               </th>  <td>3.546e+06</td> \n",
       "</tr>\n",
       "<tr>\n",
       "  <th>Df Model:</th>              <td>     5</td>      <th>                     </th>      <td> </td>     \n",
       "</tr>\n",
       "<tr>\n",
       "  <th>Covariance Type:</th>      <td>nonrobust</td>    <th>                     </th>      <td> </td>     \n",
       "</tr>\n",
       "</table>\n",
       "<table class=\"simpletable\">\n",
       "<tr>\n",
       "    <td></td>       <th>coef</th>     <th>std err</th>      <th>t</th>      <th>P>|t|</th>  <th>[0.025</th>    <th>0.975]</th>  \n",
       "</tr>\n",
       "<tr>\n",
       "  <th>const</th> <td>   -1.1592</td> <td>    0.006</td> <td> -188.313</td> <td> 0.000</td> <td>   -1.171</td> <td>   -1.147</td>\n",
       "</tr>\n",
       "<tr>\n",
       "  <th>x1</th>    <td>    0.2369</td> <td>    0.001</td> <td>  199.990</td> <td> 0.000</td> <td>    0.235</td> <td>    0.239</td>\n",
       "</tr>\n",
       "<tr>\n",
       "  <th>x2</th>    <td>    0.0400</td> <td>    0.000</td> <td>  128.099</td> <td> 0.000</td> <td>    0.039</td> <td>    0.041</td>\n",
       "</tr>\n",
       "<tr>\n",
       "  <th>x3</th>    <td>    0.2680</td> <td>    0.002</td> <td>  128.628</td> <td> 0.000</td> <td>    0.264</td> <td>    0.272</td>\n",
       "</tr>\n",
       "<tr>\n",
       "  <th>x4</th>    <td>    2.7745</td> <td>    0.004</td> <td>  625.838</td> <td> 0.000</td> <td>    2.766</td> <td>    2.783</td>\n",
       "</tr>\n",
       "<tr>\n",
       "  <th>x5</th>    <td>   -0.0064</td> <td>    0.001</td> <td>   -6.550</td> <td> 0.000</td> <td>   -0.008</td> <td>   -0.005</td>\n",
       "</tr>\n",
       "</table>\n",
       "<table class=\"simpletable\">\n",
       "<tr>\n",
       "  <th>Omnibus:</th>       <td>3409416.597</td> <th>  Durbin-Watson:     </th>      <td>   2.002</td>     \n",
       "</tr>\n",
       "<tr>\n",
       "  <th>Prob(Omnibus):</th>   <td> 0.000</td>    <th>  Jarque-Bera (JB):  </th> <td>17244052417054.686</td>\n",
       "</tr>\n",
       "<tr>\n",
       "  <th>Skew:</th>            <td>91.097</td>    <th>  Prob(JB):          </th>      <td>    0.00</td>     \n",
       "</tr>\n",
       "<tr>\n",
       "  <th>Kurtosis:</th>       <td>21661.303</td>  <th>  Cond. No.          </th>      <td>    60.6</td>     \n",
       "</tr>\n",
       "</table><br/><br/>Notes:<br/>[1] Standard Errors assume that the covariance matrix of the errors is correctly specified."
      ],
      "text/plain": [
       "<class 'statsmodels.iolib.summary.Summary'>\n",
       "\"\"\"\n",
       "                            OLS Regression Results                            \n",
       "==============================================================================\n",
       "Dep. Variable:             tip_amount   R-squared:                       0.496\n",
       "Model:                            OLS   Adj. R-squared:                  0.496\n",
       "Method:                 Least Squares   F-statistic:                 1.737e+05\n",
       "Date:                Thu, 12 Aug 2021   Prob (F-statistic):               0.00\n",
       "Time:                        17:37:09   Log-Likelihood:            -1.7730e+06\n",
       "No. Observations:              882208   AIC:                         3.546e+06\n",
       "Df Residuals:                  882202   BIC:                         3.546e+06\n",
       "Df Model:                           5                                         \n",
       "Covariance Type:            nonrobust                                         \n",
       "==============================================================================\n",
       "                 coef    std err          t      P>|t|      [0.025      0.975]\n",
       "------------------------------------------------------------------------------\n",
       "const         -1.1592      0.006   -188.313      0.000      -1.171      -1.147\n",
       "x1             0.2369      0.001    199.990      0.000       0.235       0.239\n",
       "x2             0.0400      0.000    128.099      0.000       0.039       0.041\n",
       "x3             0.2680      0.002    128.628      0.000       0.264       0.272\n",
       "x4             2.7745      0.004    625.838      0.000       2.766       2.783\n",
       "x5            -0.0064      0.001     -6.550      0.000      -0.008      -0.005\n",
       "==============================================================================\n",
       "Omnibus:                  3409416.597   Durbin-Watson:                   2.002\n",
       "Prob(Omnibus):                  0.000   Jarque-Bera (JB):   17244052417054.686\n",
       "Skew:                          91.097   Prob(JB):                         0.00\n",
       "Kurtosis:                   21661.303   Cond. No.                         60.6\n",
       "==============================================================================\n",
       "\n",
       "Notes:\n",
       "[1] Standard Errors assume that the covariance matrix of the errors is correctly specified.\n",
       "\"\"\""
      ]
     },
     "execution_count": 288,
     "metadata": {},
     "output_type": "execute_result"
    }
   ],
   "source": [
    "# Remove feature \"covid_count\" as it is the most insignificant feature and fit the model with remaining features\n",
    "x_opt = x[:, [0, 1, 2, 3, 4, 6]]\n",
    "ols = sm.OLS(endog = y, exog = x_opt).fit()\n",
    "\n",
    "# from this model's summary, no features are insiginificant base on alpha = 0.05\n",
    "ols.summary()"
   ]
  },
  {
   "cell_type": "markdown",
   "metadata": {},
   "source": [
    "# Plot the learning curve of the linear model with significant features"
   ]
  },
  {
   "cell_type": "code",
   "execution_count": 345,
   "metadata": {},
   "outputs": [],
   "source": [
    "# use subsample of training set data to plot learning curve\n",
    "stratify, subsample = train_test_split(train_yellow, test_size = 0.1, stratify = train_yellow[['comfort_index']])\n",
    "\n",
    "x_learn = subsample[['trip_distance', 'duration', 'tolls_amount','comfort_index', 'payment_card']]\n",
    "y_learn = subsample['tip_amount']\n",
    "\n",
    "train_sizes, train, valid = learning_curve(estimator = LinearRegression(), X = x_learn, y = y_learn, train_sizes = np.linspace(0.1, 1, num=12), cv=2)"
   ]
  },
  {
   "cell_type": "code",
   "execution_count": 346,
   "metadata": {},
   "outputs": [],
   "source": [
    "# https://mlcourse.ai/articles/topic4-part5-validation/\n",
    "def plot_curve(x, data, **kwargs):\n",
    "    mu = data.mean(1)\n",
    "    lines = plt.plot(x, mu, \"-\", **kwargs)\n",
    "\n",
    "def plot_learning_curve(N_train, val_train, val_valid, titleName):\n",
    "    plot_curve(N_train, val_train, label=\"training R2 score\")\n",
    "    plot_curve(N_train, val_valid, label=\"validation R2 score\")\n",
    "    plt.title(titleName)\n",
    "    plt.xlabel(\"Training Set Size\")\n",
    "    plt.ylabel(\"R2 Score\")\n",
    "    plt.legend()\n",
    "    plt.savefig(\"../plots/learning_curve.png\")"
   ]
  },
  {
   "cell_type": "code",
   "execution_count": 347,
   "metadata": {},
   "outputs": [
    {
     "data": {
      "image/png": "[encoded data removed]",
      "text/plain": [
       "<Figure size 432x288 with 1 Axes>"
      ]
     },
     "metadata": {
      "needs_background": "light"
     },
     "output_type": "display_data"
    }
   ],
   "source": [
    "plot_learning_curve(train_sizes, train, valid, \"Learning Curve - Linear Regression\")"
   ]
  },
  {
   "cell_type": "markdown",
   "metadata": {},
   "source": [
    "# Fit the linear model with training set's subsample (stratified)"
   ]
  },
  {
   "cell_type": "code",
   "execution_count": 348,
   "metadata": {},
   "outputs": [],
   "source": [
    "stratify_test, subtest = train_test_split(test_yellow, test_size = 0.1, stratify = test_yellow[['covid_count']])\n",
    "x_test = subtest[['trip_distance', 'duration', 'tolls_amount', 'comfort_index', 'payment_card']]\n",
    "y_test = subtest['tip_amount']\n",
    "reg = LinearRegression().fit(x_learn, y_learn)"
   ]
  },
  {
   "cell_type": "markdown",
   "metadata": {},
   "source": [
    "# Test & score the model with test set's subsample (stratified)\n",
    "# Print out the coefficient value of each significant features"
   ]
  },
  {
   "cell_type": "code",
   "execution_count": 349,
   "metadata": {},
   "outputs": [
    {
     "name": "stdout",
     "output_type": "stream",
     "text": [
      "0.5969353880204019\n",
      "-1.1765\n",
      "[ 0.2471  0.0395  0.2304 -0.0063  2.7823]\n"
     ]
    }
   ],
   "source": [
    "r2_score = reg.score(x_test, y_test)\n",
    "print(r2_score)\n",
    "print(reg.intercept_.round(4))\n",
    "print(reg.coef_.round(4))"
   ]
  }
 ],
 "metadata": {
  "kernelspec": {
   "display_name": "Python 3",
   "language": "python",
   "name": "python3"
  },
  "language_info": {
   "codemirror_mode": {
    "name": "ipython",
    "version": 3
   },
   "file_extension": ".py",
   "mimetype": "text/x-python",
   "name": "python",
   "nbconvert_exporter": "python",
   "pygments_lexer": "ipython3",
   "version": "3.8.5"
  }
 },
 "nbformat": 4,
 "nbformat_minor": 4
}
