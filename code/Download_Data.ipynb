{
 "cells": [
  {
   "cell_type": "markdown",
   "metadata": {},
   "source": [
    "# Download Yellow Taxi Data (2019.12~2020.11)\n",
    "# It is not recommended to download with the following code (too slow)"
   ]
  },
  {
   "cell_type": "code",
   "execution_count": 4,
   "metadata": {},
   "outputs": [
    {
     "name": "stdout",
     "output_type": "stream",
     "text": [
      "finish\n"
     ]
    }
   ],
   "source": [
    "# This code is cited from MAST30034 Applied Data Science \"Lab_1\" & \"Download\"\n",
    "# Arthor: Akira Wang\n",
    "\n",
    "# Use this code to download csv online is NOT RECOMMENDED (much longer than download by hand from the website)\n",
    "\n",
    "# The download by hand website is: https://www1.nyc.gov/site/tlc/about/tlc-trip-record-data.page\n",
    "# The raw data csv files are from: Yellow and Green Taxis' 2019-10 ~ 2020-12 Trip Records\n",
    "\n",
    "from urllib.request import urlretrieve\n",
    "\n",
    "# Store the downloaded data (yellow & green taxis' 2019.10~2020.12 data) under repository raw_data/raw\n",
    "output_dir = \"../raw_data/raw\"\n",
    "\n",
    "# Download yellow taxis' 2019.12 data \n",
    "yellow_2019_data_url = \"https://s3.amazonaws.com/nyc-tlc/trip+data/yellow_tripdata_2019-12.csv\"\n",
    "yellow_output_2019_name = \"../raw_data/raw/yellow_tripdata_2019-12.csv\"\n",
    "urlretrieve(yellow_2019_data_url, yellow_output_2019_name)\n",
    "\n",
    "# Template for downloading 2020 yellow taxi data\n",
    "yellow_template_2020 = \"yellow_tripdata_2020\"\n",
    "\n",
    "# Download yellow taxis' 2020.01~2020.11 data \n",
    "for m in range(1, 12):\n",
    "    month = str(m).zfill(2)\n",
    "    out = f'{yellow_template_2020}-{month}.csv'\n",
    "    url = f\"https://s3.amazonaws.com/nyc-tlc/trip+data/{out}\"\n",
    "    urlretrieve(url, f\"{output_dir}/{out}\")\n",
    "\n",
    "# print \"finish\" once all csv files are downloaded\n",
    "print(\"finish\")"
   ]
  }
 ],
 "metadata": {
  "kernelspec": {
   "display_name": "Python 3",
   "language": "python",
   "name": "python3"
  },
  "language_info": {
   "codemirror_mode": {
    "name": "ipython",
    "version": 3
   },
   "file_extension": ".py",
   "mimetype": "text/x-python",
   "name": "python",
   "nbconvert_exporter": "python",
   "pygments_lexer": "ipython3",
   "version": "3.8.5"
  }
 },
 "nbformat": 4,
 "nbformat_minor": 4
}
